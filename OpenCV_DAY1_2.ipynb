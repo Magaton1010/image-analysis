{
  "nbformat": 4,
  "nbformat_minor": 0,
  "metadata": {
    "colab": {
      "provenance": [],
      "authorship_tag": "ABX9TyNJk9Vyn4ZC0rPfzHfAmgbI",
      "include_colab_link": true
    },
    "kernelspec": {
      "name": "python3",
      "display_name": "Python 3"
    },
    "language_info": {
      "name": "python"
    }
  },
  "cells": [
    {
      "cell_type": "markdown",
      "metadata": {
        "id": "view-in-github",
        "colab_type": "text"
      },
      "source": [
        "<a href=\"https://colab.research.google.com/github/Magaton1010/image-analysis/blob/main/OpenCV_DAY1_2.ipynb\" target=\"_parent\"><img src=\"https://colab.research.google.com/assets/colab-badge.svg\" alt=\"Open In Colab\"/></a>"
      ]
    },
    {
      "cell_type": "markdown",
      "source": [
        "Task: Enhance your previous script to include image blurring, sharpening, and thresholding operations. Display the processed images interactively and allow the user to exit by pressing a key.\n"
      ],
      "metadata": {
        "id": "jf7SHoqBKuh-"
      }
    },
    {
      "cell_type": "code",
      "execution_count": null,
      "metadata": {
        "id": "8bAaEIpVG8ad"
      },
      "outputs": [],
      "source": [
        "import cv2\n",
        "import numpy as np\n",
        "\n",
        "# Load an image\n",
        "image = cv2.imread(r\"C:\\image_original.jpg\")\n",
        "\n",
        "# Convert to grayscale\n",
        "grayscale_image = cv2.cvtColor(image, cv2.COLOR_BGR2GRAY)\n",
        "\n",
        "# Apply Gaussian blur\n",
        "blurred_image = cv2.GaussianBlur(grayscale_image, (5, 5), 0)\n",
        "\n",
        "# Apply image sharpening (example kernel)\n",
        "kernel = np.array([[-1, -1, -1],\n",
        "                   [-1, 9, -1],\n",
        "                   [-1, -1, -1]], dtype=np.float32)\n",
        "\n",
        "sharpened_image = cv2.filter2D(blurred_image, -1, kernel)\n",
        "\n",
        "# Apply thresholding\n",
        "_, thresholded_image = cv2.threshold(sharpened_image, 100, 255, cv2.THRESH_BINARY)\n",
        "\n",
        "# Display processed images\n",
        "cv2.imshow('Original Image', image)\n",
        "cv2.imshow('Blurred Image', blurred_image)\n",
        "cv2.imshow('Sharpened Image', sharpened_image)\n",
        "cv2.imshow('Thresholded Image', thresholded_image)\n",
        "\n",
        "# Wait for a key press to exit\n",
        "cv2.waitKey(0)\n",
        "cv2.destroyAllWindows()"
      ]
    },
    {
      "cell_type": "markdown",
      "source": [
        "Mathematical Understanding of Kernels:\n",
        "Convolution Operation:\n",
        "The convolution operation involves sliding a kernel (or filter) over an image matrix and computing the weighted sum of pixel values that overlap with the kernel. Mathematically, the convolution operation\n",
        "𝐼\n",
        "∗\n",
        "𝐾\n",
        " between an image matrix\n",
        "𝐼\n",
        "I and a kernel matrix\n",
        "𝐾\n",
        "K is defined as:\n",
        "\n",
        "(\n",
        "𝐼\n",
        "∗\n",
        "𝐾\n",
        ")\n",
        "(\n",
        "𝑥\n",
        ",\n",
        "𝑦\n",
        ")\n",
        "=\n",
        "∑\n",
        "𝑖\n",
        ",\n",
        "𝑗\n",
        "𝐼\n",
        "(\n",
        "𝑥\n",
        "−\n",
        "𝑖\n",
        ",\n",
        "𝑦\n",
        "−\n",
        "𝑗\n",
        ")\n",
        "×\n",
        "𝐾\n",
        "(\n",
        "𝑖\n",
        ",\n",
        "𝑗\n",
        ")\n",
        "(I∗K)(x,y)=∑\n",
        "i,j\n",
        "​\n",
        " I(x−i,y−j)×K(i,j)\n",
        "where\n",
        "(\n",
        "𝑥\n",
        ",\n",
        "𝑦\n",
        ")\n",
        "(x,y) represents a pixel location in the output image, and\n",
        "(\n",
        "𝑖\n",
        ",\n",
        "𝑗\n",
        ")\n",
        "(i,j) represents the coordinates within the kernel\n",
        "𝐾\n",
        "\n",
        "\n",
        "Applying the Kernel:\n",
        "\n",
        "When applying a kernel to an image:\n",
        "\n",
        "Each element\n",
        "𝐾\n",
        "(\n",
        "𝑖\n",
        ",\n",
        "𝑗\n",
        ")\n",
        "K(i,j) of the kernel matrix represents a weight.\n",
        "The kernel is centered at each pixel of the image.\n",
        "The weighted sum of pixel values covered by the kernel is computed to produce the corresponding pixel value in the output image.\n",
        "Kernel Types and Operations:\n",
        "\n",
        "Blurring: Averaging or smoothing kernel, such as Gaussian blur kernel\n",
        "𝐾\n",
        ", reduces noise and sharpness by averaging pixel values.\n",
        "\n",
        "Sharpening: Enhances edges and details using a sharpening kernel\n",
        "𝐾\n",
        " that emphasizes differences between pixel values.\n",
        "\n",
        "Edge Detection: Kernel types like Sobel or Prewitt are used to detect edges by highlighting intensity changes in the image."
      ],
      "metadata": {
        "id": "Iy2jyaLqJ2rm"
      }
    }
  ]
}
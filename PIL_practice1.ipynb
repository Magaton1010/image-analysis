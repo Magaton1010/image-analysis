{
  "nbformat": 4,
  "nbformat_minor": 0,
  "metadata": {
    "colab": {
      "provenance": [],
      "authorship_tag": "ABX9TyP2N6mxJc3NCwqkM8sf69JP",
      "include_colab_link": true
    },
    "kernelspec": {
      "name": "python3",
      "display_name": "Python 3"
    },
    "language_info": {
      "name": "python"
    }
  },
  "cells": [
    {
      "cell_type": "markdown",
      "metadata": {
        "id": "view-in-github",
        "colab_type": "text"
      },
      "source": [
        "<a href=\"https://colab.research.google.com/github/Magaton1010/image-analysis/blob/main/PIL_practice1.ipynb\" target=\"_parent\"><img src=\"https://colab.research.google.com/assets/colab-badge.svg\" alt=\"Open In Colab\"/></a>"
      ]
    },
    {
      "cell_type": "markdown",
      "source": [
        "1. **Importing Libraries:**\n",
        "   - Import necessary modules from the Pillow library (PIL) for image processing.\n",
        "\n",
        "2. **Reading and Converting the Image:**\n",
        "   - Open the image file (\"msi_recruitment.gif\") and convert it to the RGB mode.\n",
        "\n",
        "3. **Defining Intensity Levels:**\n",
        "   - Create a list of intensity levels representing color channel ratios.\n",
        "\n",
        "4. **Creating a Contact Sheet:**\n",
        "   - Initialize a contact sheet as a new image with three times the width and height.\n",
        "   - Use variables (x, y) to track the position for pasting images.\n",
        "\n",
        "5. **Nested Loop for Color Variations:**\n",
        "   - Iterate over color channels (red, green, blue) and intensity levels.\n",
        "\n",
        "6. **Creating Color Variations:**\n",
        "   - Copy the original image and split it into red, green, and blue channels.\n",
        "   - Apply intensity variations to the specified color channel.\n",
        "   - Merge color channels to create a new image with variations.\n",
        "   - Paste the variation into the contact sheet.\n",
        "\n",
        "7. **Updating Position for the Next Image:**\n",
        "   - Update position for the next image, moving to the next row if needed.\n",
        "\n",
        "8. **Resizing and Displaying the Contact Sheet:**\n",
        "   - Resize the contact sheet to half its size and display it.\n"
      ],
      "metadata": {
        "id": "HjRZFlKJz7tC"
      }
    },
    {
      "cell_type": "code",
      "source": [
        "from PIL import Image\n",
        "from PIL import ImageEnhance\n",
        "\n",
        "# Read the original image and convert it to RGB format\n",
        "original_image = Image.open(\"readonly/msi_recruitment.gif\")\n",
        "original_image = original_image.convert(\"RGB\")\n",
        "\n",
        "# List of intensities to apply to color channels\n",
        "intensities = [0.1, 0.5, 0.9]\n",
        "\n",
        "# Create a contact sheet to display variations\n",
        "first_variation = original_image\n",
        "contact_sheet = Image.new(first_variation.mode, (first_variation.width * 3, first_variation.height * 3))\n",
        "x_position = 0\n",
        "y_position = 0\n",
        "\n",
        "# Iterate over color channels (0: Red, 1: Green, 2: Blue)\n",
        "for channel in range(3):\n",
        "    # Iterate over intensity levels\n",
        "    for intensity in intensities:\n",
        "        # Create a copy of the original image for the current variation\n",
        "        current_variation = original_image.copy()\n",
        "\n",
        "        # Split the image into its RGB channels\n",
        "        r_channel, g_channel, b_channel = current_variation.split()\n",
        "\n",
        "        # Apply intensity variation to the specified color channel\n",
        "        if channel == 0:\n",
        "            r_channel = r_channel.point(lambda i: i * intensity)\n",
        "        elif channel == 1:\n",
        "            g_channel = g_channel.point(lambda i: i * intensity)\n",
        "        else:\n",
        "            b_channel = b_channel.point(lambda i: i * intensity)\n",
        "\n",
        "        # Merge the color channels back to create the variation\n",
        "        current_variation = Image.merge(\"RGB\", (r_channel, g_channel, b_channel))\n",
        "\n",
        "        # Paste the current variation into the contact sheet\n",
        "        contact_sheet.paste(current_variation, (x_position, y_position))\n",
        "\n",
        "        # Update the position for the next image\n",
        "        if x_position + first_variation.width == contact_sheet.width:\n",
        "            x_position = 0\n",
        "            y_position = y_position + first_variation.height\n",
        "        else:\n",
        "            x_position = x_position + first_variation.width\n",
        "\n",
        "# Resize the contact sheet for better display\n",
        "contact_sheet = contact_sheet.resize((int(contact_sheet.width / 2), int(contact_sheet.height / 2)))\n",
        "\n",
        "# Display the contact sheet\n",
        "contact_sheet.show()\n"
      ],
      "metadata": {
        "id": "5hrMfk63z8vI"
      },
      "execution_count": null,
      "outputs": []
    }
  ]
}
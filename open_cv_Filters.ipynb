{
  "nbformat": 4,
  "nbformat_minor": 0,
  "metadata": {
    "colab": {
      "provenance": [],
      "authorship_tag": "ABX9TyMAvdYoWFaij4aRhifmr5fl",
      "include_colab_link": true
    },
    "kernelspec": {
      "name": "python3",
      "display_name": "Python 3"
    },
    "language_info": {
      "name": "python"
    }
  },
  "cells": [
    {
      "cell_type": "markdown",
      "metadata": {
        "id": "view-in-github",
        "colab_type": "text"
      },
      "source": [
        "<a href=\"https://colab.research.google.com/github/Magaton1010/image-analysis/blob/main/open_cv_Filters.ipynb\" target=\"_parent\"><img src=\"https://colab.research.google.com/assets/colab-badge.svg\" alt=\"Open In Colab\"/></a>"
      ]
    },
    {
      "cell_type": "markdown",
      "source": [
        "**This code processes an image named 'lip2.jpg' using various image filtering techniques and displays the results using OpenCV's imshow function.**"
      ],
      "metadata": {
        "id": "cA0OlLV5SwVA"
      }
    },
    {
      "cell_type": "code",
      "execution_count": null,
      "metadata": {
        "id": "gyDU9XQWLcTA"
      },
      "outputs": [],
      "source": [
        "import cv2\n",
        "import numpy as np\n",
        "from matplotlib import pyplot as plt\n",
        "img = cv2.imread('lip2.jpg',1)\n",
        "kernel = np.ones((3,3), np.float32)/9\n",
        "filt_2d = cv2.filter2D(img,-1,kernel)\n",
        "blur =cv2.blur(img,(3,3))\n",
        "gaussian_blur = cv2.GaussianBlur(img,(5,5),0)\n",
        "median_blur = cv2.medianBlur(img,3)\n",
        "bilateral_blur= cv2.bilateralFilter(img,9,75,75)\n",
        "\n",
        "\n",
        "\n",
        "cv2.imshow(\"orginal\",img)\n",
        "cv2.imshow(\"2d custom filter\", filt_2d)\n",
        "cv2.imshow(\"2d blur filter\", blur)\n",
        "cv2.imshow(\"2d gaulssian\", gaussian_blur)\n",
        "cv2.imshow(\"median blur\", median_blur)\n",
        "cv2.imshow(\"bilateral_blur\", bilateral_blur)\n",
        "cv2.waitKey(0)\n",
        "cv2.destroyAllWindows()"
      ]
    },
    {
      "cell_type": "markdown",
      "source": [],
      "metadata": {
        "id": "5H-kcfOGSv2O"
      }
    },
    {
      "cell_type": "markdown",
      "source": [
        "\n",
        "**Custom 2D Filter** (filt_2d):\n",
        "This technique applies a custom-defined kernel to the image using the filter2D function. It performs convolution between the kernel and the image to achieve smoothing.\n",
        "\n",
        "**Average Blur (blur):**\n",
        "This technique applies a simple averaging filter to the image using the blur function. It calculates the average color of pixels within a defined window and assigns the average value to the central pixel.\n",
        "\n",
        "**Gaussian Blur (gaussian_blur):**\n",
        "This technique applies a Gaussian blur to the image using the GaussianBlur function. It uses a weighted average of nearby pixels, giving more weight to closer pixels.\n",
        "\n",
        "**Median Blur (median_blur):**\n",
        "This technique applies a median filter to the image using the medianBlur function. It replaces each pixel's value with the median value of the neighboring pixels, which helps reduce noise.\n",
        "\n",
        "**Bilateral Filter (bilateral_blur):**\n",
        "This technique applies a bilateral filter to the image using the bilateralFilter function. It preserves edges while smoothing the image by considering both spatial distance and intensity difference.\n",
        "\n",
        "The code uses the matplotlib library to display the original and filtered images in a subplot layout. The images are shown with their respective titles. You can modify the code to process different images or adjust the parameters of the filtering techniques as needed."
      ],
      "metadata": {
        "id": "iNMlOaw-LdXF"
      }
    }
  ]
}
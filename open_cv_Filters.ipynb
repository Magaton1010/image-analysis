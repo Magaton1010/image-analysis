{
  "nbformat": 4,
  "nbformat_minor": 0,
  "metadata": {
    "colab": {
      "provenance": [],
      "authorship_tag": "ABX9TyOx9AuQSAnd6RZL3uj7nnwI",
      "include_colab_link": true
    },
    "kernelspec": {
      "name": "python3",
      "display_name": "Python 3"
    },
    "language_info": {
      "name": "python"
    }
  },
  "cells": [
    {
      "cell_type": "markdown",
      "metadata": {
        "id": "view-in-github",
        "colab_type": "text"
      },
      "source": [
        "<a href=\"https://colab.research.google.com/github/Magaton1010/image-analysis/blob/main/open_cv_Filters.ipynb\" target=\"_parent\"><img src=\"https://colab.research.google.com/assets/colab-badge.svg\" alt=\"Open In Colab\"/></a>"
      ]
    },
    {
      "cell_type": "markdown",
      "source": [
        "# Image Filtering and Blurring with OpenCV\n",
        "This Python script demonstrates various image filtering and blurring techniques using OpenCV library.\n",
        "\n",
        "## Description\n",
        "The script loads an image from file (\"lip2.jpg\"), applies different filtering and blurring techniques, and displays the original and processed images side by side. The techniques used include:\n",
        "- Custom 2D Filter\n",
        "- 2D Box (Average) Blur\n",
        "- 2D Gaussian Blur\n",
        "- Median Blur\n",
        "- Bilateral Filter\n",
        "\n",
        "## Libraries Used\n",
        "- OpenCV (cv2): Used for image loading, filtering, blurring, and display.\n",
        "- NumPy (np): Used for array manipulation.\n",
        "\n",
        "## Usage\n",
        "1. Ensure that the \"lip2.jpg\" image file is in the same directory as the script.\n",
        "2. Run the script.\n",
        "3. A window will appear displaying the original and processed images using various techniques.\n",
        "4. Press any key to close the image display windows.\n",
        "\n",
        "## Implementation Details\n",
        "1. The script uses OpenCV to load the \"lip2.jpg\" image.\n",
        "2. Different filtering and blurring techniques are applied to the loaded image.\n",
        "3. The resulting images are displayed side by side using `cv2.imshow`.\n",
        "4. The original image and processed images are displayed in separate windows.\n",
        "5. Press any key to close the image display windows.\n",
        "\n",
        "## Note\n",
        "Ensure that the required libraries (OpenCV, NumPy) are installed in your Python environment before running the script. You should have the \"lip2.jpg\" image file in the same directory as the script.\n",
        "\n",
        "## References\n",
        "- OpenCV: https://opencv.org/\n",
        "- NumPy: https://numpy.org/\n",
        "\n",
        "## Author\n",
        "[HG]\n",
        "[https://github.com/Magaton1010/image-analysis]\n"
      ],
      "metadata": {
        "id": "sicUMHZaf37J"
      }
    },
    {
      "cell_type": "code",
      "execution_count": null,
      "metadata": {
        "id": "gyDU9XQWLcTA"
      },
      "outputs": [],
      "source": [
        "import cv2\n",
        "import numpy as np\n",
        "from matplotlib import pyplot as plt\n",
        "img = cv2.imread('lip2.jpg',1)\n",
        "kernel = np.ones((3,3), np.float32)/9\n",
        "filt_2d = cv2.filter2D(img,-1,kernel)\n",
        "blur =cv2.blur(img,(3,3))\n",
        "gaussian_blur = cv2.GaussianBlur(img,(5,5),0)\n",
        "median_blur = cv2.medianBlur(img,3)\n",
        "bilateral_blur= cv2.bilateralFilter(img,9,75,75)\n",
        "\n",
        "\n",
        "\n",
        "cv2.imshow(\"orginal\",img)\n",
        "cv2.imshow(\"2d custom filter\", filt_2d)\n",
        "cv2.imshow(\"2d blur filter\", blur)\n",
        "cv2.imshow(\"2d gaulssian\", gaussian_blur)\n",
        "cv2.imshow(\"median blur\", median_blur)\n",
        "cv2.imshow(\"bilateral_blur\", bilateral_blur)\n",
        "cv2.waitKey(0)\n",
        "cv2.destroyAllWindows()"
      ]
    },
    {
      "cell_type": "markdown",
      "source": [],
      "metadata": {
        "id": "5H-kcfOGSv2O"
      }
    },
    {
      "cell_type": "markdown",
      "source": [
        "\n",
        "**Custom 2D Filter** (filt_2d):\n",
        "This technique applies a custom-defined kernel to the image using the filter2D function. It performs convolution between the kernel and the image to achieve smoothing.\n",
        "\n",
        "**Average Blur (blur):**\n",
        "This technique applies a simple averaging filter to the image using the blur function. It calculates the average color of pixels within a defined window and assigns the average value to the central pixel.\n",
        "\n",
        "**Gaussian Blur (gaussian_blur):**\n",
        "This technique applies a Gaussian blur to the image using the GaussianBlur function. It uses a weighted average of nearby pixels, giving more weight to closer pixels.\n",
        "\n",
        "**Median Blur (median_blur):**\n",
        "This technique applies a median filter to the image using the medianBlur function. It replaces each pixel's value with the median value of the neighboring pixels, which helps reduce noise.\n",
        "\n",
        "**Bilateral Filter (bilateral_blur):**\n",
        "This technique applies a bilateral filter to the image using the bilateralFilter function. It preserves edges while smoothing the image by considering both spatial distance and intensity difference.\n",
        "\n",
        "The code uses the matplotlib library to display the original and filtered images in a subplot layout. The images are shown with their respective titles. You can modify the code to process different images or adjust the parameters of the filtering techniques as needed."
      ],
      "metadata": {
        "id": "iNMlOaw-LdXF"
      }
    }
  ]
}
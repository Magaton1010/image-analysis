{
  "nbformat": 4,
  "nbformat_minor": 0,
  "metadata": {
    "colab": {
      "provenance": [],
      "authorship_tag": "ABX9TyNmcSclycVi5CZMtdn7Xpvf",
      "include_colab_link": true
    },
    "kernelspec": {
      "name": "python3",
      "display_name": "Python 3"
    },
    "language_info": {
      "name": "python"
    }
  },
  "cells": [
    {
      "cell_type": "markdown",
      "metadata": {
        "id": "view-in-github",
        "colab_type": "text"
      },
      "source": [
        "<a href=\"https://colab.research.google.com/github/Magaton1010/image-analysis/blob/main/Analyze_image_properties.ipynb\" target=\"_parent\"><img src=\"https://colab.research.google.com/assets/colab-badge.svg\" alt=\"Open In Colab\"/></a>"
      ]
    },
    {
      "cell_type": "code",
      "execution_count": null,
      "metadata": {
        "colab": {
          "base_uri": "https://localhost:8080/",
          "height": 245
        },
        "id": "XQIT4HoLQrgb",
        "outputId": "0ce27956-073f-49c6-e788-9db6b6028cfa"
      },
      "outputs": [
        {
          "output_type": "error",
          "ename": "AttributeError",
          "evalue": "ignored",
          "traceback": [
            "\u001b[0;31m---------------------------------------------------------------------------\u001b[0m",
            "\u001b[0;31mAttributeError\u001b[0m                            Traceback (most recent call last)",
            "\u001b[0;32m<ipython-input-1-57c4525bc7e5>\u001b[0m in \u001b[0;36m<cell line: 23>\u001b[0;34m()\u001b[0m\n\u001b[1;32m     21\u001b[0m \u001b[0;34m\u001b[0m\u001b[0m\n\u001b[1;32m     22\u001b[0m \u001b[0;31m# Image properties\u001b[0m\u001b[0;34m\u001b[0m\u001b[0;34m\u001b[0m\u001b[0m\n\u001b[0;32m---> 23\u001b[0;31m \u001b[0mdimensions\u001b[0m \u001b[0;34m=\u001b[0m \u001b[0mimage\u001b[0m\u001b[0;34m.\u001b[0m\u001b[0mshape\u001b[0m\u001b[0;34m[\u001b[0m\u001b[0;34m:\u001b[0m\u001b[0;36m2\u001b[0m\u001b[0;34m]\u001b[0m\u001b[0;34m\u001b[0m\u001b[0;34m\u001b[0m\u001b[0m\n\u001b[0m\u001b[1;32m     24\u001b[0m \u001b[0mchannels\u001b[0m \u001b[0;34m=\u001b[0m \u001b[0mimage\u001b[0m\u001b[0;34m.\u001b[0m\u001b[0mshape\u001b[0m\u001b[0;34m[\u001b[0m\u001b[0;36m2\u001b[0m\u001b[0;34m]\u001b[0m\u001b[0;34m\u001b[0m\u001b[0;34m\u001b[0m\u001b[0m\n\u001b[1;32m     25\u001b[0m \u001b[0;34m\u001b[0m\u001b[0m\n",
            "\u001b[0;31mAttributeError\u001b[0m: 'NoneType' object has no attribute 'shape'"
          ]
        }
      ],
      "source": [
        "import cv2\n",
        "import numpy as np\n",
        "import matplotlib.pyplot as plt\n",
        "\n",
        "# Load image\n",
        "image_path = 'put your tif file pas here '\n",
        "image = cv2.imread(image_path)\n",
        "\n",
        "# Image properties\n",
        "dimensions = image.shape[:2]\n",
        "channels = image.shape[2]\n",
        "\n",
        "# Split color channels\n",
        "b, g, r = cv2.split(image)\n",
        "\n",
        "# Calculate mean brightness and contrast\n",
        "brightness = np.mean(image)\n",
        "contrast = np.std(image)\n",
        "\n",
        "# Calculate pixel intensity histogram\n",
        "hist, bins = np.histogram(image.flatten(), bins=256, range=[0, 256])\n",
        "\n",
        "# Plot pixel intensity histogram\n",
        "plt.figure()\n",
        "plt.plot(hist, color='black')\n",
        "plt.xlabel('Pixel Intensity')\n",
        "plt.ylabel('Frequency')\n",
        "plt.title('Pixel Intensity Histogram')\n",
        "plt.show()\n",
        "\n",
        "# Color histogram\n",
        "color_hist = cv2.calcHist([image], [0, 1, 2], None, [256, 256, 256], [0, 256, 0, 256, 0, 256])\n",
        "color_hist = np.clip(color_hist, 0, 1)  # Normalize histogram\n",
        "\n",
        "# Plot color histogram\n",
        "plt.figure()\n",
        "plt.imshow(color_hist[:, :, 0], cmap='Reds', aspect='auto')\n",
        "plt.xlabel('Blue Channel')\n",
        "plt.ylabel('Green Channel')\n",
        "plt.title('Color Histogram (Blue vs. Green)')\n",
        "plt.colorbar()\n",
        "plt.show()\n",
        "\n",
        "# Explore color variations\n",
        "green_pixels = image[:, :, 1]  # Green channel\n",
        "unique_colors = np.unique(green_pixels)\n",
        "num_colors = len(unique_colors)\n",
        "\n",
        "# Calculate color distribution\n",
        "color_distribution = np.bincount(green_pixels.flatten())\n",
        "\n",
        "# Plot color distribution\n",
        "plt.figure()\n",
        "plt.bar(range(len(color_distribution)), color_distribution, color='green')\n",
        "plt.xlabel('Green Intensity')\n",
        "plt.ylabel('Frequency')\n",
        "plt.title('Color Distribution')\n",
        "plt.show()\n",
        "\n",
        "# Statistical analysis\n",
        "mean = np.mean(image)\n",
        "std = np.std(image)\n",
        "correlation = np.corrcoef(g.flatten(), r.flatten())[0, 1]\n",
        "\n",
        "# Print results\n",
        "print('Image: ', image_path)\n",
        "print('Dimensions: ', dimensions)\n",
        "print('Color Channels: ', channels)\n",
        "print('Mean Brightness: ', brightness)\n",
        "print('Contrast: ', contrast)\n",
        "print('Mean: ', mean)\n",
        "print('Standard Deviation: ', std)\n",
        "print('Correlation: ', correlation)\n"
      ]
    },
    {
      "cell_type": "markdown",
      "source": [
        "#Mean Brightness: The mean brightness of the image is printed. This value represents the average intensity of the pixels in the image. It can give you an idea of the overall brightness level of the image.\n",
        "\n",
        "#Contrast: The standard deviation of the image is printed. This value indicates the amount of variation or contrast in pixel intensities. Higher contrast values imply a wider range of intensity values, while lower contrast values indicate a more uniform distribution.\n",
        "\n",
        "#Mean: The mean value of pixel intensities across all channels is printed. This value provides an overall measure of the brightness of the image.\n",
        "\n",
        "#Standard Deviation: The standard deviation of pixel intensities across all channels is printed. This value indicates the level of variation or spread in the pixel intensities. Higher values suggest greater diversity in pixel values.\n",
        "\n",
        "#Correlation: The correlation between the green and red channels is printed. This measure indicates the degree of linear relationship or similarity between the two channels. A high positive correlation suggests similar patterns or structures in the green and red channels.\n",
        "bold text"
      ],
      "metadata": {
        "id": "N9tWfKCHRUR3"
      }
    }
  ]
}
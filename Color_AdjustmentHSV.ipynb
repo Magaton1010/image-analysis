{
  "nbformat": 4,
  "nbformat_minor": 0,
  "metadata": {
    "colab": {
      "provenance": [],
      "authorship_tag": "ABX9TyPmYg8yJWhr2pCaytaALT1y",
      "include_colab_link": true
    },
    "kernelspec": {
      "name": "python3",
      "display_name": "Python 3"
    },
    "language_info": {
      "name": "python"
    }
  },
  "cells": [
    {
      "cell_type": "markdown",
      "metadata": {
        "id": "view-in-github",
        "colab_type": "text"
      },
      "source": [
        "<a href=\"https://colab.research.google.com/github/Magaton1010/image-analysis/blob/main/Color_AdjustmentHSV.ipynb\" target=\"_parent\"><img src=\"https://colab.research.google.com/assets/colab-badge.svg\" alt=\"Open In Colab\"/></a>"
      ]
    },
    {
      "cell_type": "markdown",
      "source": [
        "# Color Adjustment using OpenCV Trackbars\n",
        "This Python script demonstrates real-time color adjustment using OpenCV's Trackbars.\n",
        "\n",
        "## Description\n",
        "The script creates a graphical interface using OpenCV, with three trackbars for adjusting the Hue, Saturation, and Value (brightness) components of a color. The HSV values are continuously updated as the user moves the trackbars. The resulting HSV color is then converted back to BGR color space and displayed as an image.\n",
        "\n",
        "## Libraries Used\n",
        "- OpenCV (cv2): Used for graphical interface and color space conversions.\n",
        "- NumPy (np): Used for handling arrays and mathematical operations.\n",
        "- Matplotlib: Used to create a plot of a parametric surface.\n",
        "\n",
        "## Usage\n",
        "1. Run the script.\n",
        "2. A graphical interface window will appear, containing three trackbars labeled \"H\", \"S\", and \"V\".\n",
        "3. Adjust the trackbars to change the Hue, Saturation, and Value components of the color.\n",
        "4. The updated HSV color is displayed as an image in real-time.\n",
        "\n",
        "## Description of Second Part (Matplotlib)\n",
        "The second part of the script demonstrates the implementation of a matplotlib function for creating a plot of a parametric surface.\n",
        "\n",
        "## Implementation Details\n",
        "1. The script creates a named window named \"frame\" and three trackbars (\"H\", \"S\", \"V\") using OpenCV.\n",
        "2. The `nothing` function is defined to serve as a placeholder callback for the trackbars.\n",
        "3. The script uses a loop to continuously update the HSV color values based on the trackbar positions.\n",
        "4. The HSV color is converted to BGR color space using `cv2.cvtColor`.\n",
        "5. The resulting BGR image is displayed in the \"frame\" window using `cv2.imshow`.\n",
        "6. The user can adjust the trackbars to modify the color in real-time.\n",
        "7. Press the \"Esc\" key to exit the color adjustment interface.\n",
        "8. The second part of the script uses NumPy to create arrays representing a parametric surface.\n",
        "9. The Matplotlib library is used to create a plot of the parametric surface with specified angles and radii.\n",
        "10. The resulting plot is displayed using `plt.show()`.\n",
        "\n",
        "## Note\n",
        "Ensure that the required libraries (OpenCV, NumPy, Matplotlib) are installed in your Python environment before running the script.\n",
        "\n",
        "## References\n",
        "- OpenCV: https://opencv.org/\n",
        "- NumPy: https://numpy.org/\n",
        "- Matplotlib: https://matplotlib.org/\n",
        "\n",
        "## Author\n",
        "[HG.]\n",
        "[Magaton1010]\n"
      ],
      "metadata": {
        "id": "eYv6cW2Behfq"
      }
    },
    {
      "cell_type": "code",
      "execution_count": null,
      "metadata": {
        "id": "y8unS0GycPG5"
      },
      "outputs": [],
      "source": [
        "import cv2\n",
        "import numpy as np\n",
        "def nothing(X):\n",
        "    pass\n",
        "cv2.namedWindow(\"frame\")\n",
        "cv2.createTrackbar(\"H\",\"frame\",0,255,nothing)\n",
        "cv2.createTrackbar(\"S\",\"frame\",0,255,nothing)\n",
        "cv2.createTrackbar(\"V\",\"frame\",0,255,nothing)\n",
        "\n",
        "img_hsv=np.zeros((250,500,3), np.uint8)\n",
        "while True:\n",
        " h= cv2.getTrackbarPos(\"H\",\"frame\")\n",
        " s= cv2.getTrackbarPos(\"S\",\"frame\")\n",
        " v= cv2.getTrackbarPos(\"V\",\"frame\")\n",
        "\n",
        " img_hsv [:]= (h,s,v)\n",
        " img_bgr=cv2.cvtColor(img_hsv,cv2.COLOR_HSV2BGR)\n",
        "\n",
        " cv2.imshow(\"frame\",img_bgr)\n",
        " key = cv2.waitKey(1)\n",
        " if key==27:\n",
        "        break\n",
        " cv2.destroyAllWindows()\n",
        "# Implementation of matplotlib function\n",
        "import matplotlib.pyplot as plt\n",
        "import matplotlib.tri as tri\n",
        "import numpy as np\n",
        "\n",
        "\n",
        "ang = 40\n",
        "rad = 10\n",
        "radm = 0.35\n",
        "radii = np.linspace(radm, 0.95, rad)\n",
        "\n",
        "angles = np.linspace(0, 4 * np.pi, ang)\n",
        "angles = np.repeat(angles[..., np.newaxis],\n",
        "                   rad, axis = 1)\n",
        "angles[:, 1::2] += np.pi / ang\n",
        "\n",
        "x = (radii * np.cos(angles)).flatten()\n",
        "y = (radii * np.sin(angles)).flatten()\n",
        "z = (np.sin(4 * radii) * np.cos(4 * angles)).flatten()\n",
        "\n",
        "triang = tri.Triangulation(x, y)\n",
        "triang.set_mask(np.hypot(x[triang.triangles].mean(axis = 1),\n",
        "                         y[triang.triangles].mean(axis = 1))\n",
        "                < radm)\n",
        "\n",
        "tpc = plt.tripcolor(triang, z, shading ='flat')\n",
        "\n",
        "plt.hsv()\n",
        "\n",
        "plt.title('matplotlib.pyplot.hsv() function Example',\n",
        "          fontweight =\"bold\")\n",
        "\n",
        "plt.show()"
      ]
    }
  ]
}
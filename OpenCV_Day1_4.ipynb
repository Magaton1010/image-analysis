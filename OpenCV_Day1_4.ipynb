{
  "nbformat": 4,
  "nbformat_minor": 0,
  "metadata": {
    "colab": {
      "provenance": [],
      "authorship_tag": "ABX9TyNmaj83/ZhVo6qSEVTJB0yB",
      "include_colab_link": true
    },
    "kernelspec": {
      "name": "python3",
      "display_name": "Python 3"
    },
    "language_info": {
      "name": "python"
    }
  },
  "cells": [
    {
      "cell_type": "markdown",
      "metadata": {
        "id": "view-in-github",
        "colab_type": "text"
      },
      "source": [
        "<a href=\"https://colab.research.google.com/github/Magaton1010/image-analysis/blob/main/OpenCV_Day1_4.ipynb\" target=\"_parent\"><img src=\"https://colab.research.google.com/assets/colab-badge.svg\" alt=\"Open In Colab\"/></a>"
      ]
    },
    {
      "cell_type": "markdown",
      "source": [
        "Understand the concept of edge detection and its importance in computer vision.\n",
        "\n",
        "Task: Modify your existing script to include Prewitt and sobel edge detection."
      ],
      "metadata": {
        "id": "1BEXm8UXW15L"
      }
    },
    {
      "cell_type": "code",
      "execution_count": null,
      "metadata": {
        "id": "te-6d4USW1ZY"
      },
      "outputs": [],
      "source": [
        "\n",
        "import cv2\n",
        "import numpy as np\n",
        "\n",
        "\n",
        "# Load an image\n",
        "image = cv2.imread(r\"C:\\Users\\h.ghaderian\\Desktop\\destop\\image_original.jpg\")\n",
        "\n",
        "# Apply Prewitt edge detection (horizontal and vertical)\n",
        "kernel_x = np.array([[1, 0, -1],\n",
        "                      [1, 0, -1],\n",
        "                      [1, 0, -1]])\n",
        "kernel_y = np.array([[1, 1, 1],\n",
        "                      [0, 0, 0],\n",
        "                      [-1, -1, -1]])\n",
        "prewitt_x = cv2.filter2D(image, -1, kernel_x)\n",
        "prewitt_y = cv2.filter2D(image, -1, kernel_y)\n",
        "\n",
        "# Display the results\n",
        "cv2.imshow('Original Image', image)\n",
        "cv2.imshow('Prewitt X', prewitt_x)\n",
        "cv2.imshow('Prewitt Y', prewitt_y)\n",
        "\n",
        "# Wait for a key press to exit\n",
        "cv2.waitKey(0)\n",
        "cv2.destroyAllWindows()"
      ]
    },
    {
      "cell_type": "markdown",
      "source": [
        "Here's a brief overview of how these kernels work:\n",
        "\n",
        "Sobel Operator:\n",
        "\n",
        "The Sobel operator consists of two separate 3x3 convolution kernels (one for detecting vertical edges and one for horizontal edges).\n",
        "The vertical Sobel kernel detects changes in pixel intensity vertically (from top to bottom).\n",
        "The horizontal Sobel kernel detects changes in pixel intensity horizontally (from left to right).\n",
        "These kernels highlight edges by emphasizing differences in intensity between neighboring pixels in the specified direction.\n",
        "Prewitt Operator:\n",
        "\n",
        "The Prewitt operator is similar to the Sobel operator and is used for edge detection.\n",
        "Like Sobel, Prewitt also uses separate kernels for detecting vertical and horizontal edges.\n",
        "The Prewitt kernels are simpler than Sobel but work similarly to accentuate intensity changes that signify edges."
      ],
      "metadata": {
        "id": "4_vK-e0wX8fC"
      }
    },
    {
      "cell_type": "markdown",
      "source": [
        "Next Steps:\n",
        "Run the updated script to observe the results of Sobel and Prewitt edge detection on your image.\n",
        "\n",
        "Experiment with different kernel sizes and explore the impact of parameters on edge detection quality.\n",
        "\n",
        "Reflect on today's activities and explore advanced edge detection techniques and applications in computer vision."
      ],
      "metadata": {
        "id": "zWdiURLeXqRK"
      }
    },
    {
      "cell_type": "markdown",
      "source": [
        "The general idea behind edge detection with these kernels is to compute the gradient magnitude of the image at each pixel. The gradient magnitude indicates how much the intensity of the image changes around a particular pixel. High gradient magnitudes typically correspond to edges in the image."
      ],
      "metadata": {
        "id": "N6kDdCuOYEqE"
      }
    },
    {
      "cell_type": "code",
      "source": [
        "import matplotlib.pyplot as plt\n",
        "# Check if image is loaded successfully\n",
        "if image is None:\n",
        "    print(\"Error: Image not found!\")\n",
        "    exit()\n",
        "\n",
        "# Apply Sobel operator to detect edges\n",
        "sobel_x = cv2.Sobel(image, cv2.CV_64F, 1, 0, ksize=3)\n",
        "sobel_y = cv2.Sobel(image, cv2.CV_64F, 0, 1, ksize=3)\n",
        "\n",
        "# Calculate the gradient magnitude\n",
        "gradient_magnitude = np.sqrt(sobel_x**2 + sobel_y**2)\n",
        "\n",
        "# Normalize gradient magnitude to range 0-255\n",
        "gradient_magnitude_normalized = cv2.normalize(gradient_magnitude, None, 0, 255, cv2.NORM_MINMAX, cv2.CV_8U)\n",
        "\n",
        "# Display original image and edge-detected image\n",
        "plt.figure(figsize=(12, 6))\n",
        "plt.subplot(1, 2, 1)\n",
        "plt.imshow(image, cmap='gray')\n",
        "plt.title('Original Image')\n",
        "\n",
        "plt.subplot(1, 2, 2)\n",
        "plt.imshow(gradient_magnitude_normalized, cmap='gray')\n",
        "plt.title('Edges Detected (Sobel Operator)')\n",
        "\n",
        "plt.show()\n",
        "\n",
        "cv2.imshow('Original Image', image)\n",
        "cv2.imshow('Sobel X', cv2.convertScaleAbs(sobel_x))\n",
        "cv2.imshow('Sobel Y', cv2.convertScaleAbs(sobel_y))\n",
        "cv2.imshow('Sobel Magnitude',gradient_magnitude_normalized)\n",
        "# Wait for a key press to exit\n",
        "cv2.waitKey(0)\n",
        "cv2.destroyAllWindows()\n"
      ],
      "metadata": {
        "id": "yyKVFF_UYriV"
      },
      "execution_count": null,
      "outputs": []
    },
    {
      "cell_type": "markdown",
      "source": [
        "### Implementation in Python\n",
        "\n",
        "In Python using OpenCV and NumPy, the Sobel operator can be applied as demonstrated in the previous code snippet. OpenCV's `cv2.Sobel()` function performs the convolution with the Sobel kernels (`Gx` and `Gy`), and NumPy is used for gradient magnitude calculation (`np.sqrt(sobel_x**2 + sobel_y**2)`) and normalization.\n",
        "\n",
        "This approach allows for efficient edge detection by leveraging the directional information provided by the Sobel kernels to emphasize and detect edges based on intensity gradients in the image. Edge detection is a fundamental operation in image processing and computer vision, enabling various applications such as object detection, segmentation, and feature extraction.\n",
        "\n",
        "You can use these LaTeX formulas in Markdown cells within a Jupyter notebook or Google Colab to represent the mathematical concepts and algorithms discussed in the explanation. Each formula is formatted using LaTeX syntax to ensure proper display and readability within a LaTeX environment."
      ],
      "metadata": {
        "id": "hhtz9jXka0Uf"
      }
    }
  ]
}
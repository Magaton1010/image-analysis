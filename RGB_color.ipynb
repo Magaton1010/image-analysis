{
  "nbformat": 4,
  "nbformat_minor": 0,
  "metadata": {
    "colab": {
      "provenance": [],
      "authorship_tag": "ABX9TyPAD1P7J+D3LET9JwJQSbv9",
      "include_colab_link": true
    },
    "kernelspec": {
      "name": "python3",
      "display_name": "Python 3"
    },
    "language_info": {
      "name": "python"
    }
  },
  "cells": [
    {
      "cell_type": "markdown",
      "metadata": {
        "id": "view-in-github",
        "colab_type": "text"
      },
      "source": [
        "<a href=\"https://colab.research.google.com/github/Magaton1010/image-analysis/blob/main/RGB_color.ipynb\" target=\"_parent\"><img src=\"https://colab.research.google.com/assets/colab-badge.svg\" alt=\"Open In Colab\"/></a>"
      ]
    },
    {
      "cell_type": "code",
      "execution_count": null,
      "metadata": {
        "id": "vrlkey8Z553p"
      },
      "outputs": [],
      "source": [
        "import cv2\n",
        "import numpy as np\n",
        "import matplotlib.pyplot as plt\n",
        "\n",
        "# Load image\n",
        "image_path = r''\n",
        "image = cv2.imread(image_path)\n",
        "\n",
        "# Extract green channel\n",
        "green_channel = image[:, :, 1]\n",
        "Blue_channel = image[:,:,0]\n",
        "Red_channel = image[:,:,2]\n",
        "\n",
        "# Plotting the image and green pixels\n",
        "plt.figure(figsize=(10, 6))\n",
        "\n",
        "# Plot the original image\n",
        "plt.subplot(2, 2, 1)\n",
        "plt.imshow(cv2.cvtColor(image, cv2.COLOR_BGR2RGB))\n",
        "plt.title(\"Original Image\")\n",
        "plt.axis(\"off\")\n",
        "\n",
        "# Plot the green pixels\n",
        "plt.subplot(2, 2, 2)\n",
        "plt.imshow(green_channel, cmap='Greens')\n",
        "plt.title(\"Green Pixels\")\n",
        "plt.axis(\"off\")\n",
        "\n",
        "\n",
        "# Plot the green pixels\n",
        "plt.subplot(2, 2, 3)\n",
        "plt.imshow(Blue_channel, cmap='Blues')\n",
        "plt.title(\"Blue Pixels\")\n",
        "plt.axis(\"off\")\n",
        "\n",
        "# Plot the green pixels\n",
        "plt.subplot(2, 2, 4)\n",
        "plt.imshow(Red_channel, cmap='Reds')\n",
        "plt.title(\"Red Pixels\")\n",
        "plt.axis(\"off\")\n",
        "plt.tight_layout()\n",
        "plt.show()\n",
        "\n"
      ]
    }
  ]
}
{
  "nbformat": 4,
  "nbformat_minor": 0,
  "metadata": {
    "colab": {
      "provenance": [],
      "authorship_tag": "ABX9TyMxlOQXIr4I5b/15ni4VDUO",
      "include_colab_link": true
    },
    "kernelspec": {
      "name": "python3",
      "display_name": "Python 3"
    },
    "language_info": {
      "name": "python"
    }
  },
  "cells": [
    {
      "cell_type": "markdown",
      "metadata": {
        "id": "view-in-github",
        "colab_type": "text"
      },
      "source": [
        "<a href=\"https://colab.research.google.com/github/Magaton1010/image-analysis/blob/main/OpenCV_DAY1_1_.ipynb\" target=\"_parent\"><img src=\"https://colab.research.google.com/assets/colab-badge.svg\" alt=\"Open In Colab\"/></a>"
      ]
    },
    {
      "cell_type": "markdown",
      "source": [
        "This Python script utilizes **OpenCV** (cv2) and  **Matplotlib**  libraries to perform:\n",
        "\n",
        "* image loading\n",
        "* resizing\n",
        "* color conversion\n",
        "* histogram calculation\n",
        "* histogram visualization\n",
        "\n",
        "# Key Functions Used:\n",
        "cv2.imread(), cv2.imshow(), cv2.waitKey(), cv2.destroyAllWindows(): Image loading and display operations.\n",
        "cv2.resize(), cv2.cvtColor(): Image resizing and color conversion.\n",
        "cv2.calcHist(): Histogram calculation.\n",
        "Matplotlib functions: Plotting and visualization of data, including histograms.\n",
        "\n",
        "\n",
        "\n",
        "\n",
        "\n",
        "\n",
        "\n",
        "\n"
      ],
      "metadata": {
        "id": "deB2NdlBDvfb"
      }
    },
    {
      "cell_type": "code",
      "source": [
        "import cv2\n",
        "import numpy as np\n",
        "import matplotlib.pyplot as plt\n",
        "\n",
        "# Load an image\n",
        "image =cv2.imread(r\"C:\\Users\\h.ghaderian\\Desktop\\destop\\image_original.jpg\")\n",
        "# Check if image is loaded successfully\n",
        "if image is None:\n",
        "    print(\"Error:unable to load image.\")\n",
        "else:\n",
        "\n",
        "    # Display the image\n",
        "    cv2.imshow(\"Orginal Image\", image)\n",
        "    cv2.waitKey(0)\n",
        "    cv2.destroyAllWindows()\n",
        "   # Get image dimensions\n",
        "height, width, channels = image.shape\n",
        "\n",
        "# Print image properties\n",
        "print(\"Image dimensions: {} x {}\".format(width, height))\n",
        "print(\"Number of channels:\", channels)\n",
        "\n",
        "#Resize the image\n",
        "resized_image = cv2.resize(image,(150,500)) # Specify the new width and height\n",
        "grayscel=cv2.cvtColor(resized_image,cv2.COLOR_BGR2GRAY)\n",
        "# Display the image\n",
        "cv2.imshow(\"resized_image \", grayscel)\n",
        "cv2.waitKey(0)\n",
        "cv2.destroyAllWindows()\n",
        "\n",
        "# Calculate histogram\n",
        "histogram = cv2.calcHist([grayscel], [0], None, [256], [0, 256])\n",
        "\n",
        "# Visualize histogram\n",
        "plt.plot(histogram)\n",
        "plt.title('Histogram of Grayscale Image')\n",
        "plt.xlabel('Pixel Value')\n",
        "plt.ylabel('Frequency')\n",
        "plt.show()\n",
        "\n",
        "#gray_image: This is the grayscale image for which we want to compute the histogram. The histogram will represent the distribution of pixel intensities in this image.\n",
        "#[0]: This specifies the channel for which the histogram is calculated. Since it's a grayscale image, there's only one channel, so [0] indicates that we are computing the histogram for the intensity values of that single channel.\n",
        "#None: This parameter is a mask image. We're not using a mask in this case, so it's set to None.\n",
        "#[256]: This parameter specifies the number of bins for the histogram. Here, we're using 256 bins, which means the histogram will have 256 values representing the frequency of intensity values ranging from 0 to 255.\n",
        "#[0, 256]: This parameter specifies the range of pixel values for which the histogram will be computed. In this case, it's the entire range of pixel values for grayscale images, i.e., from 0 to 255.\n"
      ],
      "metadata": {
        "id": "Hi0y5arKGI9A"
      },
      "execution_count": 1,
      "outputs": []
    },
    {
      "cell_type": "markdown",
      "source": [
        "# gray_image: This is the grayscale image for which we want to compute the histogram. The histogram will represent the distribution of pixel intensities in this image.\n",
        "# [0]: This specifies the channel for which the histogram is calculated. Since it's a grayscale image, there's only one channel, so [0] indicates that we are computing the histogram for the intensity values of that single channel.\n",
        "# None: This parameter is a mask image. We're not using a mask in this case, so it's set to None.\n",
        "# [256]: This parameter specifies the number of bins for the histogram. Here, we're using 256 bins, which means the histogram will have 256 values representing the frequency of intensity values ranging from 0 to 255.\n",
        "# [0, 256]: This parameter specifies the range of pixel values for which the histogram will be computed. In this case, it's the entire range of pixel values for grayscale images, i.e., from 0 to 255.\n",
        "\n"
      ],
      "metadata": {
        "id": "8FuFf4e1DEwF"
      }
    },
    {
      "cell_type": "code",
      "source": [],
      "metadata": {
        "id": "DARfPv4MDGwJ"
      },
      "execution_count": null,
      "outputs": []
    }
  ]
}
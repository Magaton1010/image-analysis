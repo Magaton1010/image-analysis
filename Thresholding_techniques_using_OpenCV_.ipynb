{
  "nbformat": 4,
  "nbformat_minor": 0,
  "metadata": {
    "colab": {
      "provenance": [],
      "authorship_tag": "ABX9TyMgc2F1P1veoIq4G/yajBEo",
      "include_colab_link": true
    },
    "kernelspec": {
      "name": "python3",
      "display_name": "Python 3"
    },
    "language_info": {
      "name": "python"
    }
  },
  "cells": [
    {
      "cell_type": "markdown",
      "metadata": {
        "id": "view-in-github",
        "colab_type": "text"
      },
      "source": [
        "<a href=\"https://colab.research.google.com/github/Magaton1010/image-analysis/blob/main/Thresholding_techniques_using_OpenCV_.ipynb\" target=\"_parent\"><img src=\"https://colab.research.google.com/assets/colab-badge.svg\" alt=\"Open In Colab\"/></a>"
      ]
    },
    {
      "cell_type": "markdown",
      "source": [
        "**Image handeling in python with opencv & trashholed techniques**\n"
      ],
      "metadata": {
        "id": "y6AIZl92LC7N"
      }
    },
    {
      "cell_type": "markdown",
      "source": [
        "**Thresholding is a technique in OpenCV, which is the assignment of pixel values in relation to the threshold value provided. In thresholding, each pixel value is compared with the threshold value. If the pixel value is smaller than the threshold, it is set to 0, otherwise, it is set to a maximum value (generally 255).**"
      ],
      "metadata": {
        "id": "4gPMry1KMIrM"
      }
    },
    {
      "cell_type": "code",
      "source": [
        "import cv2\n",
        "import numpy as np\n",
        "import matplotlib.pyplot as plt\n",
        "import os\n",
        "\n",
        "# Folder paths\n",
        "input_folder = r''  # Path to the folder containing input images\n",
        "output_folder = r''  # Path to the folder where segmented images will be saved\n",
        "area_folder = r''  # Path to the folder where segmented plant areas will be saved\n",
        "\n",
        "# Create output folders if they don't exist\n",
        "if not os.path.exists(output_folder):\n",
        "    os.makedirs(output_folder)\n",
        "if not os.path.exists(area_folder):\n",
        "    os.makedirs(area_folder)\n",
        "\n",
        "# Process each image file in the input folder\n",
        "for filename in os.listdir(input_folder):\n",
        "    if filename.endswith('.tif'):  # Adjust the file extension if needed\n",
        "        # Load the image\n",
        "        image_path = os.path.join(input_folder, filename)\n",
        "        image = cv2.imread(image_path)\n",
        "\n",
        "        ##Perform the segmentation steps\n",
        "        # Step 1: Thresholding\n",
        "        hsv = cv2.cvtColor(image, cv2.COLOR_BGR2HSV)\n",
        "        lower_green = np.array([35, 40, 40])\n",
        "        upper_green = np.array([80, 255, 255])\n",
        "\n",
        "        cv2.imshow('image',hsv)\n",
        "        K=cv2.waitKey(0)\n",
        "        if K == ord(\"s\"):\n",
        "\n",
        "         cv2.imwrite(\"copy_r(3).tif\",hsv )\n",
        "        cv2.destroyAllWindows()\n"
      ],
      "metadata": {
        "id": "bzA1COIyMKZR"
      },
      "execution_count": null,
      "outputs": []
    }
  ]
}
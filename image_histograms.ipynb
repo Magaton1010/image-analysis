{
  "nbformat": 4,
  "nbformat_minor": 0,
  "metadata": {
    "colab": {
      "provenance": [],
      "authorship_tag": "ABX9TyP5n3bXWXLN4MOrmoJRJkEQ",
      "include_colab_link": true
    },
    "kernelspec": {
      "name": "python3",
      "display_name": "Python 3"
    },
    "language_info": {
      "name": "python"
    }
  },
  "cells": [
    {
      "cell_type": "markdown",
      "metadata": {
        "id": "view-in-github",
        "colab_type": "text"
      },
      "source": [
        "<a href=\"https://colab.research.google.com/github/Magaton1010/image-analysis/blob/main/image_histograms.ipynb\" target=\"_parent\"><img src=\"https://colab.research.google.com/assets/colab-badge.svg\" alt=\"Open In Colab\"/></a>"
      ]
    },
    {
      "cell_type": "markdown",
      "source": [
        "**To find the peak or range of intensities corresponding to vegetation in the green channel**"
      ],
      "metadata": {
        "id": "LEN711KxaTxl"
      }
    },
    {
      "cell_type": "markdown",
      "source": [
        "OpenCV provides us with the cv2.calcHist() function to calculate the image histograms. We could apply it to calculate the histogram of the constituent color channels (blue, green, and red) of the image. When we read the image using cv2.imread() method, the image read is in BGR format. We could use the below syntax for the cv2.calcHist() function.\n",
        "\n",
        "cv2.calcHist() function:"
      ],
      "metadata": {
        "id": "LlIAVQXHaI6Y"
      }
    },
    {
      "cell_type": "markdown",
      "source": [
        "Syntax: cv2.calcHist(images, channels, mask, histSize, ranges[, hist[, accumulate]])"
      ],
      "metadata": {
        "id": "PqLXNxQTaMW7"
      }
    },
    {
      "cell_type": "code",
      "execution_count": null,
      "metadata": {
        "id": "q9WL4sBIaD_e"
      },
      "outputs": [],
      "source": [
        "import cv2\n",
        "import numpy as np\n",
        "import matplotlib.pyplot as plt\n",
        "\n",
        "# Load image\n",
        "image = cv2.imread(r'D:\\computer\\image processing\\Tomato_crop_area_ by_rows\\Ave Maria_Tomato_148ft_22ft_2023\\20230202_Ave Maria_3D_21MP_148ft_22ftpersec_transparent_mosaic_group1.tif')\n",
        "\n",
        "# Split color channels\n",
        "b, g, r = cv2.split(image)\n",
        "\n",
        "# Analyze statistics and patterns in the green channel\n",
        "green_hist = cv2.calcHist([g], [0], None, [256], [0, 256])\n",
        "\n",
        "# Plot the green channel histogram\n",
        "plt.plot(green_hist, color='green')\n",
        "plt.xlabel('Pixel Intensity')\n",
        "plt.ylabel('Frequency')\n",
        "plt.title('Green Channel Histogram')\n",
        "plt.show()\n",
        "\n",
        ""
      ]
    }
  ]
}